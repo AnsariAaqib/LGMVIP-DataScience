{
 "cells": [
  {
   "cell_type": "markdown",
   "id": "f5895abb",
   "metadata": {},
   "source": [
    "# LetsGrowMore"
   ]
  },
  {
   "cell_type": "markdown",
   "id": "6b8a3747",
   "metadata": {},
   "source": [
    "# DATA SCIENCE INTERNSHIP"
   ]
  },
  {
   "cell_type": "markdown",
   "id": "cab0027a",
   "metadata": {},
   "source": [
    "# Level: Beginner"
   ]
  },
  {
   "cell_type": "markdown",
   "id": "ffdd4c01",
   "metadata": {},
   "source": [
    "# Task 2: Image to Pencil Sketch with Python"
   ]
  },
  {
   "cell_type": "markdown",
   "id": "7dada877",
   "metadata": {},
   "source": [
    "# Author: Ansari Aaqib"
   ]
  },
  {
   "cell_type": "markdown",
   "id": "d418ad3f",
   "metadata": {},
   "source": [
    "We need to read the image in RBG format and then convert it to a grayscale image. This will turn an image into a classic black and white photo. Then the next thing to do is invert the grayscale image also called negative image, this will be our inverted grayscale image. Inversion can be used to enhance details. Then we can finally create the pencil sketch by mixing the grayscale image with the inverted blurry image. This can be done by dividing the grayscale image by the inverted blurry image. Since images are just arrays, we can easily do this programmatically using the divide function from the cv2 library in Python."
   ]
  },
  {
   "cell_type": "markdown",
   "id": "a9c18391",
   "metadata": {},
   "source": [
    "# Libraries"
   ]
  },
  {
   "cell_type": "code",
   "execution_count": 2,
   "id": "5c5bc9e8",
   "metadata": {},
   "outputs": [],
   "source": [
    "import cv2\n",
    "import imageio\n",
    "import numpy as np\n",
    "import matplotlib.pyplot as plt\n",
    "plt.style.use('seaborn')"
   ]
  },
  {
   "cell_type": "markdown",
   "id": "da319713",
   "metadata": {},
   "source": [
    "# Fetching Image input"
   ]
  },
  {
   "cell_type": "code",
   "execution_count": null,
   "id": "56ca9066",
   "metadata": {},
   "outputs": [],
   "source": [
    "image = cv2.imread(\"C:/Users/Ansari Aaquib/Downloads/PYTHON/VIP/\")"
   ]
  }
 ],
 "metadata": {
  "kernelspec": {
   "display_name": "Python 3",
   "language": "python",
   "name": "python3"
  },
  "language_info": {
   "codemirror_mode": {
    "name": "ipython",
    "version": 3
   },
   "file_extension": ".py",
   "mimetype": "text/x-python",
   "name": "python",
   "nbconvert_exporter": "python",
   "pygments_lexer": "ipython3",
   "version": "3.8.8"
  }
 },
 "nbformat": 4,
 "nbformat_minor": 5
}
